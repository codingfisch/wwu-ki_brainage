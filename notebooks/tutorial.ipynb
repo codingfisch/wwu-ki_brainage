{
 "cells": [
  {
   "cell_type": "markdown",
   "source": [
    "In diesem Notebook wird das Alter von Personen durch deren jeweiligen MRT-Hirnscan durch Deep Learning vorhergesagt.\n",
    "Dieses vorhergesagte \"BrainAge\" kann als Biomarker verwendet werden, da ein erhöhtes BrainAge (> tatsächliches Alter) mit psychiatrischen Krankheiten assoziert werden kann.\n",
    "\n",
    "Da MRT-Scans dreidimensionale Bilddaten sind, wird ein 3D [CNN](https://de.wikipedia.org/wiki/Convolutional_Neural_Network) zur Vorhersage des BrainAge verwendet\n",
    "\n",
    "<img src=\"machine_learning_pipeline.png\" style=\"width:800px;height:300px;\">\n",
    "\n",
    "Es wird Version 1 von [fastai](https://fastai1.fast.ai/) (Installationsanleitung inkl. PyTorch im Link) verwendet."
   ],
   "metadata": {
    "collapsed": false
   }
  },
  {
   "cell_type": "markdown",
   "source": [
    "Packages werden importiert"
   ],
   "metadata": {
    "collapsed": false
   }
  },
  {
   "cell_type": "code",
   "execution_count": 1,
   "metadata": {},
   "outputs": [],
   "source": [
    "import fastai_scans\n",
    "from fastai.basics import *\n"
   ]
  },
  {
   "cell_type": "markdown",
   "source": [
    "Die öffentlich verfügbaren MRT-Scans aus dem [IXI-Datensatz](https://brain-development.org/ixi-dataset/) wurde bereits vorverarbeitet. Schädelknochen wurde rausgeschnitten und die Auflösung wurde reduziert um die Analyse zu beschleunigen"
   ],
   "metadata": {
    "collapsed": false
   }
  },
  {
   "cell_type": "code",
   "execution_count": 3,
   "metadata": {
    "pycharm": {
     "name": "#%%\n"
    }
   },
   "outputs": [
    {
     "name": "stderr",
     "output_type": "stream",
     "text": [
      "/home/lfisch/.conda/envs/fastba/lib/python3.6/site-packages/torch/nn/functional.py:3103: UserWarning: The default behavior for interpolate/upsample with float scale_factor changed in 1.6.0 to align with other frameworks/libraries, and now uses scale_factor directly, instead of relying on the computed output size. If you wish to restore the old behavior, please set recompute_scale_factor=True. See the documentation of nn.Upsample for details. \n",
      "  warnings.warn(\"The default behavior for interpolate/upsample with float scale_factor changed \"\n"
     ]
    }
   ],
   "source": [
    "brains_path = '../data/brains_IXI'\n",
    "targets_path = '../data/targets.csv'\n",
    "data = (fastai_scans.VolumeItemList.from_paths(Path(brains_path), Path(targets_path))\n",
    "                                   .split_by_rand_pct(0.2, seed=7) # 20% der Daten als Validierungsdatensatz\n",
    "                                   .label_from_metadata('age_centuries') # Alter / 100 wird vorhergesagt\n",
    "                                   .transform(fastai_scans.get_transforms()) # Data Augmentation\n",
    "                                   .databunch(bs=32) # Batch Size\n",
    "                                   .normalize()) # Normalisiert die Intensität der Voxel (3D Pixel)\n",
    "data.show_batch(2)"
   ]
  },
  {
   "cell_type": "markdown",
   "source": [
    "Als Modell wird ein [Resnet](https://arxiv.org/abs/1512.03385) mit 3D Kernel verwendet.\n",
    "\n",
    "Daten und Modell werden in ein [Learner](https://fastai1.fast.ai/basic_train.html#Learner) zusammengefasst."
   ],
   "metadata": {
    "collapsed": false
   }
  },
  {
   "cell_type": "code",
   "execution_count": 5,
   "metadata": {
    "pycharm": {
     "name": "#%%\n"
    }
   },
   "outputs": [],
   "source": [
    "resolution = (34, 42, 34)\n",
    "model = fastai_scans.models.ResNet3d(resolution, num_blocks=[1], num_classes=1)\n",
    "learn = Learner(data, model, metrics=[mean_absolute_error])\n",
    "print(learn.summary())"
   ]
  },
  {
   "cell_type": "markdown",
   "source": [
    "Durch [.lr_find](https://fastai1.fast.ai/callbacks.lr_finder.html#lr_find) wird eine gute Learning Rate wird bestimmt."
   ],
   "metadata": {
    "collapsed": false
   }
  },
  {
   "cell_type": "code",
   "execution_count": 6,
   "metadata": {},
   "outputs": [
    {
     "data": {
      "text/html": [
       "\n",
       "    <div>\n",
       "        <style>\n",
       "            /* Turns off some styling */\n",
       "            progress {\n",
       "                /* gets rid of default border in Firefox and Opera. */\n",
       "                border: none;\n",
       "                /* Needs to be in here for Safari polyfill so background images work as expected. */\n",
       "                background-size: auto;\n",
       "            }\n",
       "            .progress-bar-interrupted, .progress-bar-interrupted::-webkit-progress-bar {\n",
       "                background: #F44336;\n",
       "            }\n",
       "        </style>\n",
       "      <progress value='7' class='' max='8' style='width:300px; height:20px; vertical-align: middle;'></progress>\n",
       "      87.50% [7/8 00:03<00:00]\n",
       "    </div>\n",
       "    \n",
       "<table border=\"1\" class=\"dataframe\">\n",
       "  <thead>\n",
       "    <tr style=\"text-align: left;\">\n",
       "      <th>epoch</th>\n",
       "      <th>train_loss</th>\n",
       "      <th>valid_loss</th>\n",
       "      <th>mean_absolute_error</th>\n",
       "      <th>time</th>\n",
       "    </tr>\n",
       "  </thead>\n",
       "  <tbody>\n",
       "    <tr>\n",
       "      <td>0</td>\n",
       "      <td>0.043159</td>\n",
       "      <td>#na#</td>\n",
       "      <td>00:00</td>\n",
       "    </tr>\n",
       "    <tr>\n",
       "      <td>1</td>\n",
       "      <td>0.032092</td>\n",
       "      <td>#na#</td>\n",
       "      <td>00:00</td>\n",
       "    </tr>\n",
       "    <tr>\n",
       "      <td>2</td>\n",
       "      <td>0.025840</td>\n",
       "      <td>#na#</td>\n",
       "      <td>00:00</td>\n",
       "    </tr>\n",
       "    <tr>\n",
       "      <td>3</td>\n",
       "      <td>0.022399</td>\n",
       "      <td>#na#</td>\n",
       "      <td>00:00</td>\n",
       "    </tr>\n",
       "    <tr>\n",
       "      <td>4</td>\n",
       "      <td>0.020292</td>\n",
       "      <td>#na#</td>\n",
       "      <td>00:00</td>\n",
       "    </tr>\n",
       "    <tr>\n",
       "      <td>5</td>\n",
       "      <td>0.019702</td>\n",
       "      <td>#na#</td>\n",
       "      <td>00:00</td>\n",
       "    </tr>\n",
       "    <tr>\n",
       "      <td>6</td>\n",
       "      <td>0.021571</td>\n",
       "      <td>#na#</td>\n",
       "      <td>00:00</td>\n",
       "    </tr>\n",
       "  </tbody>\n",
       "</table><p>\n",
       "\n",
       "    <div>\n",
       "        <style>\n",
       "            /* Turns off some styling */\n",
       "            progress {\n",
       "                /* gets rid of default border in Firefox and Opera. */\n",
       "                border: none;\n",
       "                /* Needs to be in here for Safari polyfill so background images work as expected. */\n",
       "                background-size: auto;\n",
       "            }\n",
       "            .progress-bar-interrupted, .progress-bar-interrupted::-webkit-progress-bar {\n",
       "                background: #F44336;\n",
       "            }\n",
       "        </style>\n",
       "      <progress value='1' class='' max='14' style='width:300px; height:20px; vertical-align: middle;'></progress>\n",
       "      7.14% [1/14 00:00<00:00 0.0218]\n",
       "    </div>\n",
       "    "
      ],
      "text/plain": [
       "<IPython.core.display.HTML object>"
      ]
     },
     "metadata": {},
     "output_type": "display_data"
    },
    {
     "name": "stdout",
     "output_type": "stream",
     "text": [
      "LR Finder is complete, type {learner_name}.recorder.plot() to see the graph.\n",
      "Min numerical gradient: 3.55E-05\n",
      "Min loss divided by 10: 1.58E-02\n"
     ]
    },
    {
     "data": {
      "image/png": "[encoded data removed]",
      "text/plain": [
       "<Figure size 432x288 with 1 Axes>"
      ]
     },
     "metadata": {
      "needs_background": "light"
     },
     "output_type": "display_data"
    }
   ],
   "source": [
    "learn.lr_find(start_lr=1e-05, end_lr=1)\n",
    "learn.recorder.plot(suggestion=True)"
   ]
  },
  {
   "cell_type": "markdown",
   "source": [
    "Durch [.fit_one_cycle](https://fastai1.fast.ai/train.html#fit_one_cycle) wird mit einer zyklischen Learning Rate gefittet."
   ],
   "metadata": {
    "collapsed": false
   }
  },
  {
   "cell_type": "code",
   "execution_count": 7,
   "metadata": {
    "pycharm": {
     "name": "#%%\n"
    },
    "scrolled": false
   },
   "outputs": [
    {
     "data": {
      "text/html": [
       "<table border=\"1\" class=\"dataframe\">\n",
       "  <thead>\n",
       "    <tr style=\"text-align: left;\">\n",
       "      <th>epoch</th>\n",
       "      <th>train_loss</th>\n",
       "      <th>valid_loss</th>\n",
       "      <th>mean_absolute_error</th>\n",
       "      <th>time</th>\n",
       "    </tr>\n",
       "  </thead>\n",
       "  <tbody>\n",
       "    <tr>\n",
       "      <td>0</td>\n",
       "      <td>0.022105</td>\n",
       "      <td>0.034897</td>\n",
       "      <td>0.154716</td>\n",
       "      <td>00:00</td>\n",
       "    </tr>\n",
       "    <tr>\n",
       "      <td>1</td>\n",
       "      <td>0.019710</td>\n",
       "      <td>0.047679</td>\n",
       "      <td>0.179131</td>\n",
       "      <td>00:00</td>\n",
       "    </tr>\n",
       "    <tr>\n",
       "      <td>2</td>\n",
       "      <td>0.018147</td>\n",
       "      <td>0.040915</td>\n",
       "      <td>0.172337</td>\n",
       "      <td>00:00</td>\n",
       "    </tr>\n",
       "    <tr>\n",
       "      <td>3</td>\n",
       "      <td>0.016892</td>\n",
       "      <td>0.026125</td>\n",
       "      <td>0.135302</td>\n",
       "      <td>00:00</td>\n",
       "    </tr>\n",
       "    <tr>\n",
       "      <td>4</td>\n",
       "      <td>0.015951</td>\n",
       "      <td>0.023061</td>\n",
       "      <td>0.121298</td>\n",
       "      <td>00:00</td>\n",
       "    </tr>\n",
       "    <tr>\n",
       "      <td>5</td>\n",
       "      <td>0.015041</td>\n",
       "      <td>0.033904</td>\n",
       "      <td>0.157379</td>\n",
       "      <td>00:00</td>\n",
       "    </tr>\n",
       "    <tr>\n",
       "      <td>6</td>\n",
       "      <td>0.014455</td>\n",
       "      <td>0.212936</td>\n",
       "      <td>0.439140</td>\n",
       "      <td>00:00</td>\n",
       "    </tr>\n",
       "    <tr>\n",
       "      <td>7</td>\n",
       "      <td>0.014480</td>\n",
       "      <td>0.070838</td>\n",
       "      <td>0.243848</td>\n",
       "      <td>00:00</td>\n",
       "    </tr>\n",
       "    <tr>\n",
       "      <td>8</td>\n",
       "      <td>0.014091</td>\n",
       "      <td>0.044435</td>\n",
       "      <td>0.182596</td>\n",
       "      <td>00:00</td>\n",
       "    </tr>\n",
       "    <tr>\n",
       "      <td>9</td>\n",
       "      <td>0.013785</td>\n",
       "      <td>0.026179</td>\n",
       "      <td>0.139236</td>\n",
       "      <td>00:00</td>\n",
       "    </tr>\n",
       "    <tr>\n",
       "      <td>10</td>\n",
       "      <td>0.013747</td>\n",
       "      <td>0.029818</td>\n",
       "      <td>0.147370</td>\n",
       "      <td>00:00</td>\n",
       "    </tr>\n",
       "    <tr>\n",
       "      <td>11</td>\n",
       "      <td>0.013265</td>\n",
       "      <td>0.110843</td>\n",
       "      <td>0.310847</td>\n",
       "      <td>00:00</td>\n",
       "    </tr>\n",
       "    <tr>\n",
       "      <td>12</td>\n",
       "      <td>0.012815</td>\n",
       "      <td>0.012855</td>\n",
       "      <td>0.088445</td>\n",
       "      <td>00:00</td>\n",
       "    </tr>\n",
       "    <tr>\n",
       "      <td>13</td>\n",
       "      <td>0.012660</td>\n",
       "      <td>0.025186</td>\n",
       "      <td>0.132915</td>\n",
       "      <td>00:00</td>\n",
       "    </tr>\n",
       "    <tr>\n",
       "      <td>14</td>\n",
       "      <td>0.012138</td>\n",
       "      <td>0.070640</td>\n",
       "      <td>0.242403</td>\n",
       "      <td>00:00</td>\n",
       "    </tr>\n",
       "    <tr>\n",
       "      <td>15</td>\n",
       "      <td>0.011833</td>\n",
       "      <td>0.021723</td>\n",
       "      <td>0.122398</td>\n",
       "      <td>00:00</td>\n",
       "    </tr>\n",
       "    <tr>\n",
       "      <td>16</td>\n",
       "      <td>0.011507</td>\n",
       "      <td>0.024454</td>\n",
       "      <td>0.132432</td>\n",
       "      <td>00:00</td>\n",
       "    </tr>\n",
       "    <tr>\n",
       "      <td>17</td>\n",
       "      <td>0.011118</td>\n",
       "      <td>0.126446</td>\n",
       "      <td>0.337006</td>\n",
       "      <td>00:00</td>\n",
       "    </tr>\n",
       "    <tr>\n",
       "      <td>18</td>\n",
       "      <td>0.010604</td>\n",
       "      <td>0.059375</td>\n",
       "      <td>0.219328</td>\n",
       "      <td>00:00</td>\n",
       "    </tr>\n",
       "    <tr>\n",
       "      <td>19</td>\n",
       "      <td>0.010528</td>\n",
       "      <td>0.020503</td>\n",
       "      <td>0.116986</td>\n",
       "      <td>00:00</td>\n",
       "    </tr>\n",
       "    <tr>\n",
       "      <td>20</td>\n",
       "      <td>0.010367</td>\n",
       "      <td>0.020402</td>\n",
       "      <td>0.121522</td>\n",
       "      <td>00:00</td>\n",
       "    </tr>\n",
       "    <tr>\n",
       "      <td>21</td>\n",
       "      <td>0.010289</td>\n",
       "      <td>0.017651</td>\n",
       "      <td>0.105105</td>\n",
       "      <td>00:00</td>\n",
       "    </tr>\n",
       "    <tr>\n",
       "      <td>22</td>\n",
       "      <td>0.010348</td>\n",
       "      <td>0.058958</td>\n",
       "      <td>0.208866</td>\n",
       "      <td>00:00</td>\n",
       "    </tr>\n",
       "    <tr>\n",
       "      <td>23</td>\n",
       "      <td>0.010240</td>\n",
       "      <td>0.039932</td>\n",
       "      <td>0.177701</td>\n",
       "      <td>00:00</td>\n",
       "    </tr>\n",
       "    <tr>\n",
       "      <td>24</td>\n",
       "      <td>0.010074</td>\n",
       "      <td>0.008142</td>\n",
       "      <td>0.070504</td>\n",
       "      <td>00:00</td>\n",
       "    </tr>\n",
       "    <tr>\n",
       "      <td>25</td>\n",
       "      <td>0.010020</td>\n",
       "      <td>0.019066</td>\n",
       "      <td>0.111063</td>\n",
       "      <td>00:00</td>\n",
       "    </tr>\n",
       "    <tr>\n",
       "      <td>26</td>\n",
       "      <td>0.009722</td>\n",
       "      <td>0.085118</td>\n",
       "      <td>0.268214</td>\n",
       "      <td>00:00</td>\n",
       "    </tr>\n",
       "    <tr>\n",
       "      <td>27</td>\n",
       "      <td>0.009482</td>\n",
       "      <td>0.123443</td>\n",
       "      <td>0.333422</td>\n",
       "      <td>00:00</td>\n",
       "    </tr>\n",
       "    <tr>\n",
       "      <td>28</td>\n",
       "      <td>0.009091</td>\n",
       "      <td>0.083196</td>\n",
       "      <td>0.264119</td>\n",
       "      <td>00:00</td>\n",
       "    </tr>\n",
       "    <tr>\n",
       "      <td>29</td>\n",
       "      <td>0.008728</td>\n",
       "      <td>0.010845</td>\n",
       "      <td>0.088335</td>\n",
       "      <td>00:00</td>\n",
       "    </tr>\n",
       "    <tr>\n",
       "      <td>30</td>\n",
       "      <td>0.008321</td>\n",
       "      <td>0.044072</td>\n",
       "      <td>0.180647</td>\n",
       "      <td>00:00</td>\n",
       "    </tr>\n",
       "    <tr>\n",
       "      <td>31</td>\n",
       "      <td>0.008024</td>\n",
       "      <td>0.022369</td>\n",
       "      <td>0.127391</td>\n",
       "      <td>00:00</td>\n",
       "    </tr>\n",
       "    <tr>\n",
       "      <td>32</td>\n",
       "      <td>0.007891</td>\n",
       "      <td>0.115126</td>\n",
       "      <td>0.308406</td>\n",
       "      <td>00:00</td>\n",
       "    </tr>\n",
       "    <tr>\n",
       "      <td>33</td>\n",
       "      <td>0.007622</td>\n",
       "      <td>0.068414</td>\n",
       "      <td>0.233851</td>\n",
       "      <td>00:00</td>\n",
       "    </tr>\n",
       "    <tr>\n",
       "      <td>34</td>\n",
       "      <td>0.007539</td>\n",
       "      <td>0.012988</td>\n",
       "      <td>0.091586</td>\n",
       "      <td>00:00</td>\n",
       "    </tr>\n",
       "    <tr>\n",
       "      <td>35</td>\n",
       "      <td>0.007256</td>\n",
       "      <td>0.012014</td>\n",
       "      <td>0.088687</td>\n",
       "      <td>00:00</td>\n",
       "    </tr>\n",
       "    <tr>\n",
       "      <td>36</td>\n",
       "      <td>0.007003</td>\n",
       "      <td>0.058832</td>\n",
       "      <td>0.225028</td>\n",
       "      <td>00:00</td>\n",
       "    </tr>\n",
       "    <tr>\n",
       "      <td>37</td>\n",
       "      <td>0.006718</td>\n",
       "      <td>0.042267</td>\n",
       "      <td>0.182440</td>\n",
       "      <td>00:00</td>\n",
       "    </tr>\n",
       "    <tr>\n",
       "      <td>38</td>\n",
       "      <td>0.006572</td>\n",
       "      <td>0.008502</td>\n",
       "      <td>0.074996</td>\n",
       "      <td>00:00</td>\n",
       "    </tr>\n",
       "    <tr>\n",
       "      <td>39</td>\n",
       "      <td>0.006326</td>\n",
       "      <td>0.032107</td>\n",
       "      <td>0.155041</td>\n",
       "      <td>00:00</td>\n",
       "    </tr>\n",
       "    <tr>\n",
       "      <td>40</td>\n",
       "      <td>0.005985</td>\n",
       "      <td>0.028486</td>\n",
       "      <td>0.145148</td>\n",
       "      <td>00:00</td>\n",
       "    </tr>\n",
       "    <tr>\n",
       "      <td>41</td>\n",
       "      <td>0.005858</td>\n",
       "      <td>0.021130</td>\n",
       "      <td>0.124902</td>\n",
       "      <td>00:00</td>\n",
       "    </tr>\n",
       "    <tr>\n",
       "      <td>42</td>\n",
       "      <td>0.005517</td>\n",
       "      <td>0.009865</td>\n",
       "      <td>0.081480</td>\n",
       "      <td>00:00</td>\n",
       "    </tr>\n",
       "    <tr>\n",
       "      <td>43</td>\n",
       "      <td>0.005415</td>\n",
       "      <td>0.014286</td>\n",
       "      <td>0.096396</td>\n",
       "      <td>00:00</td>\n",
       "    </tr>\n",
       "    <tr>\n",
       "      <td>44</td>\n",
       "      <td>0.005337</td>\n",
       "      <td>0.009220</td>\n",
       "      <td>0.078008</td>\n",
       "      <td>00:00</td>\n",
       "    </tr>\n",
       "    <tr>\n",
       "      <td>45</td>\n",
       "      <td>0.005097</td>\n",
       "      <td>0.009558</td>\n",
       "      <td>0.079237</td>\n",
       "      <td>00:00</td>\n",
       "    </tr>\n",
       "    <tr>\n",
       "      <td>46</td>\n",
       "      <td>0.005038</td>\n",
       "      <td>0.007222</td>\n",
       "      <td>0.067659</td>\n",
       "      <td>00:00</td>\n",
       "    </tr>\n",
       "    <tr>\n",
       "      <td>47</td>\n",
       "      <td>0.004764</td>\n",
       "      <td>0.007258</td>\n",
       "      <td>0.068162</td>\n",
       "      <td>00:00</td>\n",
       "    </tr>\n",
       "    <tr>\n",
       "      <td>48</td>\n",
       "      <td>0.004568</td>\n",
       "      <td>0.007367</td>\n",
       "      <td>0.069463</td>\n",
       "      <td>00:00</td>\n",
       "    </tr>\n",
       "    <tr>\n",
       "      <td>49</td>\n",
       "      <td>0.004524</td>\n",
       "      <td>0.007317</td>\n",
       "      <td>0.069157</td>\n",
       "      <td>00:00</td>\n",
       "    </tr>\n",
       "  </tbody>\n",
       "</table>"
      ],
      "text/plain": [
       "<IPython.core.display.HTML object>"
      ]
     },
     "metadata": {},
     "output_type": "display_data"
    }
   ],
   "source": [
    "learn.fit_one_cycle(50, 1e-2)\n",
    "print(f'MAE in the validation dataset: {learn.recorder.metrics[-1][-1].item() * 100:.2f} years')"
   ]
  },
  {
   "cell_type": "code",
   "execution_count": 8,
   "metadata": {},
   "outputs": [
    {
     "data": {
      "image/png": "[encoded data removed]",
      "text/plain": [
       "<Figure size 432x288 with 1 Axes>"
      ]
     },
     "metadata": {
      "needs_background": "light"
     },
     "output_type": "display_data"
    }
   ],
   "source": [
    "learn.recorder.plot_losses()"
   ]
  },
  {
   "cell_type": "code",
   "execution_count": 9,
   "metadata": {},
   "outputs": [
    {
     "data": {
      "image/png": "[encoded data removed]",
      "text/plain": [
       "<Figure size 864x432 with 8 Axes>"
      ]
     },
     "metadata": {
      "needs_background": "light"
     },
     "output_type": "display_data"
    }
   ],
   "source": [
    "learn.show_results(rows=2)"
   ]
  }
 ],
 "metadata": {
  "kernelspec": {
   "display_name": "Python 3",
   "language": "python",
   "name": "python3"
  },
  "language_info": {
   "codemirror_mode": {
    "name": "ipython",
    "version": 3
   },
   "file_extension": ".py",
   "mimetype": "text/x-python",
   "name": "python",
   "nbconvert_exporter": "python",
   "pygments_lexer": "ipython3",
   "version": "3.6.12"
  },
  "toc": {
   "base_numbering": 1,
   "nav_menu": {},
   "number_sections": true,
   "sideBar": true,
   "skip_h1_title": false,
   "title_cell": "Table of Contents",
   "title_sidebar": "Contents",
   "toc_cell": false,
   "toc_position": {},
   "toc_section_display": true,
   "toc_window_display": false
  }
 },
 "nbformat": 4,
 "nbformat_minor": 2
}